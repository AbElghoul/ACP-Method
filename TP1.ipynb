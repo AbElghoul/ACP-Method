{
 "cells": [
  {
   "cell_type": "markdown",
   "metadata": {},
   "source": [
    "<h2>Importation de Librairies</h2><br/>"
   ]
  },
  {
   "cell_type": "code",
   "execution_count": 46,
   "metadata": {
    "scrolled": true
   },
   "outputs": [],
   "source": [
    "\n",
    "# pandas : panel data , pour une facile manipulation des données.\n",
    "import pandas as pd \n",
    "# numpy : numerical python extensions , pour la manipulation de tableaux et les opérations mathématiques.\n",
    "import numpy as np\n",
    "# decomposition : Package pour l'analyse en composantes principales de scikit learn.\n",
    "from sklearn.decomposition import PCA\n",
    "# preprocessing : package pour centrer et normaliser les données avant d'effectuer l'ACP.\n",
    "from sklearn.preprocessing import StandardScaler\n",
    "# matplotlib : pour dessiner des graphiques, des tracés ...\n",
    "import matplotlib.pyplot as plt\n"
   ]
  },
  {
   "cell_type": "markdown",
   "metadata": {},
   "source": [
    "<h2 style=\"\">Importation de données</h2><br/>"
   ]
  },
  {
   "cell_type": "code",
   "execution_count": 47,
   "metadata": {
    "scrolled": true
   },
   "outputs": [
    {
     "name": "stdout",
     "output_type": "stream",
     "text": [
      "<class 'pandas.core.frame.DataFrame'>\n",
      "RangeIndex: 8618 entries, 0 to 8617\n",
      "Data columns (total 45 columns):\n",
      " #   Column            Non-Null Count  Dtype  \n",
      "---  ------            --------------  -----  \n",
      " 0   ID                8618 non-null   int64  \n",
      " 1   FoodGroup         8618 non-null   object \n",
      " 2   ShortDescrip      8618 non-null   object \n",
      " 3   Descrip           8618 non-null   object \n",
      " 4   CommonName        1063 non-null   object \n",
      " 5   MfgName           1560 non-null   object \n",
      " 6   ScientificName    732 non-null    object \n",
      " 7   Energy_kcal       8618 non-null   float64\n",
      " 8   Protein_g         8618 non-null   float64\n",
      " 9   Fat_g             8618 non-null   float64\n",
      " 10  Carb_g            8618 non-null   float64\n",
      " 11  Sugar_g           8618 non-null   float64\n",
      " 12  Fiber_g           8618 non-null   float64\n",
      " 13  VitA_mcg          8618 non-null   float64\n",
      " 14  VitB6_mg          8618 non-null   float64\n",
      " 15  VitB12_mcg        8618 non-null   float64\n",
      " 16  VitC_mg           8618 non-null   float64\n",
      " 17  VitE_mg           8618 non-null   float64\n",
      " 18  Folate_mcg        8618 non-null   float64\n",
      " 19  Niacin_mg         8618 non-null   float64\n",
      " 20  Riboflavin_mg     8618 non-null   float64\n",
      " 21  Thiamin_mg        8618 non-null   float64\n",
      " 22  Calcium_mg        8618 non-null   float64\n",
      " 23  Copper_mcg        8618 non-null   float64\n",
      " 24  Iron_mg           8618 non-null   float64\n",
      " 25  Magnesium_mg      8618 non-null   float64\n",
      " 26  Manganese_mg      8618 non-null   float64\n",
      " 27  Phosphorus_mg     8618 non-null   float64\n",
      " 28  Selenium_mcg      8618 non-null   float64\n",
      " 29  Zinc_mg           8618 non-null   float64\n",
      " 30  VitA_USRDA        8618 non-null   float64\n",
      " 31  VitB6_USRDA       8618 non-null   float64\n",
      " 32  VitB12_USRDA      8618 non-null   float64\n",
      " 33  VitC_USRDA        8618 non-null   float64\n",
      " 34  VitE_USRDA        8618 non-null   float64\n",
      " 35  Folate_USRDA      8618 non-null   float64\n",
      " 36  Niacin_USRDA      8618 non-null   float64\n",
      " 37  Riboflavin_USRDA  8618 non-null   float64\n",
      " 38  Thiamin_USRDA     8618 non-null   float64\n",
      " 39  Calcium_USRDA     8618 non-null   float64\n",
      " 40  Copper_USRDA      8618 non-null   float64\n",
      " 41  Magnesium_USRDA   8618 non-null   float64\n",
      " 42  Phosphorus_USRDA  8618 non-null   float64\n",
      " 43  Selenium_USRDA    8618 non-null   float64\n",
      " 44  Zinc_USRDA        8618 non-null   float64\n",
      "dtypes: float64(38), int64(1), object(6)\n",
      "memory usage: 3.0+ MB\n"
     ]
    }
   ],
   "source": [
    "\n",
    "# importer les données de notre fichier dataset demo.\n",
    "Nutrient_data = pd.read_csv(\"./nndb_flat1.csv\",sep = ',')\n",
    "\n",
    "# informations sur les données\n",
    "Nutrient_data.info()\n"
   ]
  },
  {
   "cell_type": "markdown",
   "metadata": {},
   "source": [
    "<h2 style=\"text-align:center;color:#fca103\">Vérification</h2><br/>"
   ]
  },
  {
   "cell_type": "code",
   "execution_count": 48,
   "metadata": {
    "scrolled": true
   },
   "outputs": [
    {
     "name": "stdout",
     "output_type": "stream",
     "text": [
      "     ID               FoodGroup              ShortDescrip  \\\n",
      "0  1001  Dairy and Egg Products          BUTTER,WITH SALT   \n",
      "1  1002  Dairy and Egg Products  BUTTER,WHIPPED,WITH SALT   \n",
      "2  1003  Dairy and Egg Products      BUTTER OIL,ANHYDROUS   \n",
      "3  1004  Dairy and Egg Products               CHEESE,BLUE   \n",
      "4  1005  Dairy and Egg Products              CHEESE,BRICK   \n",
      "\n",
      "                      Descrip CommonName MfgName ScientificName  Energy_kcal  \\\n",
      "0              Butter, salted        NaN     NaN            NaN        717.0   \n",
      "1  Butter, whipped, with salt        NaN     NaN            NaN        717.0   \n",
      "2       Butter oil, anhydrous        NaN     NaN            NaN        876.0   \n",
      "3                Cheese, blue        NaN     NaN            NaN        353.0   \n",
      "4               Cheese, brick        NaN     NaN            NaN        371.0   \n",
      "\n",
      "   Protein_g  Fat_g  ...  Folate_USRDA  Niacin_USRDA  Riboflavin_USRDA  \\\n",
      "0       0.85  81.11  ...        0.0075      0.002625          0.026154   \n",
      "1       0.85  81.11  ...        0.0075      0.002625          0.026154   \n",
      "2       0.28  99.48  ...        0.0000      0.000188          0.003846   \n",
      "3      21.40  28.74  ...        0.0900      0.063500          0.293846   \n",
      "4      23.24  29.68  ...        0.0500      0.007375          0.270000   \n",
      "\n",
      "   Thiamin_USRDA  Calcium_USRDA  Copper_USRDA  Magnesium_USRDA  \\\n",
      "0       0.004167       0.020000      0.000000         0.004762   \n",
      "1       0.004167       0.020000      0.000018         0.004762   \n",
      "2       0.000833       0.003333      0.000001         0.000000   \n",
      "3       0.024167       0.440000      0.000044         0.054762   \n",
      "4       0.011667       0.561667      0.000027         0.057143   \n",
      "\n",
      "   Phosphorus_USRDA  Selenium_USRDA  Zinc_USRDA  \n",
      "0          0.034286        0.018182    0.008182  \n",
      "1          0.032857        0.018182    0.004545  \n",
      "2          0.004286        0.000000    0.000909  \n",
      "3          0.552857        0.263636    0.241818  \n",
      "4          0.644286        0.263636    0.236364  \n",
      "\n",
      "[5 rows x 45 columns]\n"
     ]
    }
   ],
   "source": [
    "\n",
    "# La méthode Head renvoie les 5 premières lignes de données\n",
    "print( Nutrient_data.head() )\n"
   ]
  },
  {
   "cell_type": "code",
   "execution_count": 49,
   "metadata": {
    "scrolled": true
   },
   "outputs": [
    {
     "name": "stdout",
     "output_type": "stream",
     "text": [
      "(8618, 45)\n"
     ]
    }
   ],
   "source": [
    "\n",
    "# L'attribut shape renvoie les dimensions de notre Nutrient_data\n",
    "print( Nutrient_data.shape )\n",
    "\n",
    "# il y a 8618 échantillons et 45 variables, (Etat : étiquette )\n"
   ]
  },
  {
   "cell_type": "markdown",
   "metadata": {},
   "source": [
    "<h2 style=\"text-align:center;color:#fca103\">Prétraitement</h2><br/>"
   ]
  },
  {
   "cell_type": "code",
   "execution_count": 50,
   "metadata": {
    "scrolled": false
   },
   "outputs": [
    {
     "name": "stdout",
     "output_type": "stream",
     "text": [
      "      Energy_kcal  Protein_g  Fat_g  Carb_g  Sugar_g  Fiber_g  VitA_mcg  \\\n",
      "ID                                                                        \n",
      "1001        717.0       0.85  81.11    0.06     0.06      0.0     684.0   \n",
      "1002        717.0       0.85  81.11    0.06     0.06      0.0     684.0   \n",
      "1003        876.0       0.28  99.48    0.00     0.00      0.0     840.0   \n",
      "1004        353.0      21.40  28.74    2.34     0.50      0.0     198.0   \n",
      "1005        371.0      23.24  29.68    2.79     0.51      0.0     292.0   \n",
      "\n",
      "      VitB6_mg  VitB12_mcg  VitC_mg  ...  Folate_USRDA  Niacin_USRDA  \\\n",
      "ID                                   ...                               \n",
      "1001     0.003        0.17      0.0  ...        0.0075      0.002625   \n",
      "1002     0.003        0.13      0.0  ...        0.0075      0.002625   \n",
      "1003     0.001        0.01      0.0  ...        0.0000      0.000188   \n",
      "1004     0.166        1.22      0.0  ...        0.0900      0.063500   \n",
      "1005     0.065        1.26      0.0  ...        0.0500      0.007375   \n",
      "\n",
      "      Riboflavin_USRDA  Thiamin_USRDA  Calcium_USRDA  Copper_USRDA  \\\n",
      "ID                                                                   \n",
      "1001          0.026154       0.004167       0.020000      0.000000   \n",
      "1002          0.026154       0.004167       0.020000      0.000018   \n",
      "1003          0.003846       0.000833       0.003333      0.000001   \n",
      "1004          0.293846       0.024167       0.440000      0.000044   \n",
      "1005          0.270000       0.011667       0.561667      0.000027   \n",
      "\n",
      "      Magnesium_USRDA  Phosphorus_USRDA  Selenium_USRDA  Zinc_USRDA  \n",
      "ID                                                                   \n",
      "1001         0.004762          0.034286        0.018182    0.008182  \n",
      "1002         0.004762          0.032857        0.018182    0.004545  \n",
      "1003         0.000000          0.004286        0.000000    0.000909  \n",
      "1004         0.054762          0.552857        0.263636    0.241818  \n",
      "1005         0.057143          0.644286        0.263636    0.236364  \n",
      "\n",
      "[5 rows x 38 columns]\n"
     ]
    }
   ],
   "source": [
    "\n",
    "# séparation des variables non numériques\n",
    "\n",
    "# l'index pour les données , inplace(true): modifie le meme objet DataFrame sans créer un autre modifié.\n",
    "Nutrient_data.set_index('ID', inplace=True)\n",
    "\n",
    "# sauvegarder les libellés pour les utiliser après\n",
    "Nutrient_data_Libelles = Nutrient_data.iloc[:,:6]\n",
    "\n",
    "# supprimer les libellés \n",
    "Nutrient_data.drop(Nutrient_data.columns[:6].values,axis = 1,inplace = True)\n",
    "\n",
    "# La méthode Head renvoie les 5 premières lignes de données\n",
    "print(Nutrient_data.head())\n"
   ]
  },
  {
   "cell_type": "markdown",
   "metadata": {},
   "source": [
    "<h2 style=\"text-align:center;color:#fca103\">Normalisation</h2><br/>"
   ]
  },
  {
   "cell_type": "code",
   "execution_count": 51,
   "metadata": {
    "scrolled": true
   },
   "outputs": [
    {
     "name": "stdout",
     "output_type": "stream",
     "text": [
      " moyenne :  0.0\n",
      " variance :  1.0\n"
     ]
    }
   ],
   "source": [
    "\n",
    "# normalisation et centrage des données\n",
    "# moyenne =0, variance=1, les échantillons doivent être des lignes sinon vous devez les transposer (demographic_data.T)\n",
    "\n",
    "scaled_Nutrient_data = StandardScaler().fit_transform(Nutrient_data)\n",
    "\n",
    "# round , 2 chiffres significatifs\n",
    "print (\" moyenne : \", np.round(scaled_Nutrient_data.mean(), 2))\n",
    "print (\" variance : \", np.round(scaled_Nutrient_data.std(), 2))\n"
   ]
  },
  {
   "cell_type": "markdown",
   "metadata": {},
   "source": [
    "<h2 style=\"text-align:center;color:#fca103\">ACP</h2><br/>"
   ]
  },
  {
   "cell_type": "code",
   "execution_count": 52,
   "metadata": {
    "scrolled": true
   },
   "outputs": [],
   "source": [
    "\n",
    "# instanciation d'un objet ACP à entraîner avec notre jeu de données , nombre de composantes à garder : 10\n",
    "pca_var = PCA(n_components=10)\n",
    "pca=pca_var.fit_transform(scaled_Nutrient_data)\n"
   ]
  },
  {
   "cell_type": "code",
   "execution_count": 53,
   "metadata": {
    "scrolled": true
   },
   "outputs": [
    {
     "name": "stdout",
     "output_type": "stream",
     "text": [
      "[9.86980843 4.11519522 3.42762179 2.93274947 2.38162189 2.09360807\n",
      " 1.74277364 1.62792563 1.32638865 1.32186393]\n",
      "[[1.08275145 0.06513801 0.670262   ... 0.19889696 0.06170754 0.13217218]\n",
      " [0.06513801 0.88722107 0.11063304 ... 0.43199322 0.40248918 0.46429053]\n",
      " [0.670262   0.11063304 0.97817849 ... 0.10825448 0.02667904 0.02976545]\n",
      " ...\n",
      " [0.19889696 0.43199322 0.10825448 ... 1.02961156 0.24272404 0.29026684]\n",
      " [0.06170754 0.40248918 0.02667904 ... 0.24272404 1.11535328 0.17897878]\n",
      " [0.13217218 0.46429053 0.02976545 ... 0.29026684 0.17897878 1.03449059]]\n",
      "0.8114731106847417\n"
     ]
    }
   ],
   "source": [
    "\n",
    "# explained_variance_ratio_ : les valeurs propres des composantes principale. (valeurs propres)\n",
    "print (pca_var.explained_variance_)\n",
    "\n",
    "# get_covariance() : calculer les covariances à partir de la matrice de données.\n",
    "print ( pca_var.get_covariance() )\n",
    "\n",
    "# explained_variance_ratio_ : array avec les proportions de variance associées aux axes. (combien il porte d'informations)\n",
    "\n",
    "# les 10 premiers vecteurs propres représentent 81% de l’information disponible , ils seront conservés\n",
    "print ( pca_var.explained_variance_ratio_[:10].sum() )\n",
    "\n",
    "\n"
   ]
  },
  {
   "cell_type": "markdown",
   "metadata": {},
   "source": [
    "<h2 style=\"text-align:center;color:#fca103\">Graphiques des valeurs propres</h2><br/>"
   ]
  },
  {
   "cell_type": "code",
   "execution_count": 54,
   "metadata": {
    "scrolled": true
   },
   "outputs": [
    {
     "data": {
      "image/png": "[encoded data removed]",
      "text/plain": [
       "<Figure size 432x288 with 1 Axes>"
      ]
     },
     "metadata": {
      "needs_background": "light"
     },
     "output_type": "display_data"
    }
   ],
   "source": [
    "# les valeurs propres\n",
    "per_var = np.round(pca_var.explained_variance_ratio_,decimals=1)\n",
    "\n",
    "# création des étiquettes pour les composantes principales\n",
    "labels = ['PC' + str(x) for x in range( 1 , len(per_var) +1 ) ]\n",
    "\n",
    "# création du graphe\n",
    "plt.bar( x=range( 1,len(per_var)+1 ), height=per_var, tick_label=labels)\n",
    "plt.ylabel('Valeurs propres')\n",
    "plt.xlabel('Composantes principales')\n",
    "plt.title('Graphe')\n",
    "plt.show()\n",
    "\n",
    "\n"
   ]
  },
  {
   "cell_type": "markdown",
   "metadata": {},
   "source": [
    "<h2 style=\"text-align:center;color:#fca103\">Étiquetage et renommage des composantes</h2><br/>\n"
   ]
  },
  {
   "cell_type": "code",
   "execution_count": 55,
   "metadata": {
    "scrolled": true
   },
   "outputs": [],
   "source": [
    "\n",
    "pca = pd.DataFrame(pca[:, :10], index=Nutrient_data.index)\n",
    "\n",
    "# ajouter les libellés qu'on a supprimé avant \n",
    "pca = pca.join(Nutrient_data_Libelle)\n",
    "pca.rename(columns={0:'c1',1:'c2',2:'c3',3:'c4',4:'c5',5:'c6',6:'c7',7:'c8',8:'c9',9:'c10'}, inplace=True)\n"
   ]
  },
  {
   "cell_type": "code",
   "execution_count": 56,
   "metadata": {
    "scrolled": false
   },
   "outputs": [
    {
     "data": {
      "text/html": [
       "<div>\n",
       "<style scoped>\n",
       "    .dataframe tbody tr th:only-of-type {\n",
       "        vertical-align: middle;\n",
       "    }\n",
       "\n",
       "    .dataframe tbody tr th {\n",
       "        vertical-align: top;\n",
       "    }\n",
       "\n",
       "    .dataframe thead th {\n",
       "        text-align: right;\n",
       "    }\n",
       "</style>\n",
       "<table border=\"1\" class=\"dataframe\">\n",
       "  <thead>\n",
       "    <tr style=\"text-align: right;\">\n",
       "      <th></th>\n",
       "      <th>c1</th>\n",
       "      <th>c2</th>\n",
       "      <th>c3</th>\n",
       "      <th>c4</th>\n",
       "      <th>c5</th>\n",
       "      <th>c6</th>\n",
       "      <th>c7</th>\n",
       "      <th>c8</th>\n",
       "      <th>c9</th>\n",
       "      <th>c10</th>\n",
       "    </tr>\n",
       "  </thead>\n",
       "  <tbody>\n",
       "    <tr>\n",
       "      <th>c1</th>\n",
       "      <td>1.0</td>\n",
       "      <td>-0.0</td>\n",
       "      <td>-0.0</td>\n",
       "      <td>0.0</td>\n",
       "      <td>-0.0</td>\n",
       "      <td>0.0</td>\n",
       "      <td>0.0</td>\n",
       "      <td>-0.0</td>\n",
       "      <td>-0.0</td>\n",
       "      <td>-0.0</td>\n",
       "    </tr>\n",
       "    <tr>\n",
       "      <th>c2</th>\n",
       "      <td>-0.0</td>\n",
       "      <td>1.0</td>\n",
       "      <td>0.0</td>\n",
       "      <td>0.0</td>\n",
       "      <td>0.0</td>\n",
       "      <td>-0.0</td>\n",
       "      <td>-0.0</td>\n",
       "      <td>-0.0</td>\n",
       "      <td>-0.0</td>\n",
       "      <td>0.0</td>\n",
       "    </tr>\n",
       "    <tr>\n",
       "      <th>c3</th>\n",
       "      <td>-0.0</td>\n",
       "      <td>0.0</td>\n",
       "      <td>1.0</td>\n",
       "      <td>0.0</td>\n",
       "      <td>0.0</td>\n",
       "      <td>-0.0</td>\n",
       "      <td>-0.0</td>\n",
       "      <td>0.0</td>\n",
       "      <td>0.0</td>\n",
       "      <td>0.0</td>\n",
       "    </tr>\n",
       "    <tr>\n",
       "      <th>c4</th>\n",
       "      <td>0.0</td>\n",
       "      <td>0.0</td>\n",
       "      <td>0.0</td>\n",
       "      <td>1.0</td>\n",
       "      <td>0.0</td>\n",
       "      <td>0.0</td>\n",
       "      <td>0.0</td>\n",
       "      <td>0.0</td>\n",
       "      <td>0.0</td>\n",
       "      <td>0.0</td>\n",
       "    </tr>\n",
       "    <tr>\n",
       "      <th>c5</th>\n",
       "      <td>-0.0</td>\n",
       "      <td>0.0</td>\n",
       "      <td>0.0</td>\n",
       "      <td>0.0</td>\n",
       "      <td>1.0</td>\n",
       "      <td>0.0</td>\n",
       "      <td>0.0</td>\n",
       "      <td>0.0</td>\n",
       "      <td>0.0</td>\n",
       "      <td>-0.0</td>\n",
       "    </tr>\n",
       "    <tr>\n",
       "      <th>c6</th>\n",
       "      <td>0.0</td>\n",
       "      <td>-0.0</td>\n",
       "      <td>-0.0</td>\n",
       "      <td>0.0</td>\n",
       "      <td>0.0</td>\n",
       "      <td>1.0</td>\n",
       "      <td>0.0</td>\n",
       "      <td>0.0</td>\n",
       "      <td>0.0</td>\n",
       "      <td>-0.0</td>\n",
       "    </tr>\n",
       "    <tr>\n",
       "      <th>c7</th>\n",
       "      <td>0.0</td>\n",
       "      <td>-0.0</td>\n",
       "      <td>-0.0</td>\n",
       "      <td>0.0</td>\n",
       "      <td>0.0</td>\n",
       "      <td>0.0</td>\n",
       "      <td>1.0</td>\n",
       "      <td>0.0</td>\n",
       "      <td>-0.0</td>\n",
       "      <td>-0.0</td>\n",
       "    </tr>\n",
       "    <tr>\n",
       "      <th>c8</th>\n",
       "      <td>-0.0</td>\n",
       "      <td>-0.0</td>\n",
       "      <td>0.0</td>\n",
       "      <td>0.0</td>\n",
       "      <td>0.0</td>\n",
       "      <td>0.0</td>\n",
       "      <td>0.0</td>\n",
       "      <td>1.0</td>\n",
       "      <td>-0.0</td>\n",
       "      <td>-0.0</td>\n",
       "    </tr>\n",
       "    <tr>\n",
       "      <th>c9</th>\n",
       "      <td>-0.0</td>\n",
       "      <td>-0.0</td>\n",
       "      <td>0.0</td>\n",
       "      <td>0.0</td>\n",
       "      <td>0.0</td>\n",
       "      <td>0.0</td>\n",
       "      <td>-0.0</td>\n",
       "      <td>-0.0</td>\n",
       "      <td>1.0</td>\n",
       "      <td>0.0</td>\n",
       "    </tr>\n",
       "    <tr>\n",
       "      <th>c10</th>\n",
       "      <td>-0.0</td>\n",
       "      <td>0.0</td>\n",
       "      <td>0.0</td>\n",
       "      <td>0.0</td>\n",
       "      <td>-0.0</td>\n",
       "      <td>-0.0</td>\n",
       "      <td>-0.0</td>\n",
       "      <td>-0.0</td>\n",
       "      <td>0.0</td>\n",
       "      <td>1.0</td>\n",
       "    </tr>\n",
       "  </tbody>\n",
       "</table>\n",
       "</div>"
      ],
      "text/plain": [
       "      c1   c2   c3   c4   c5   c6   c7   c8   c9  c10\n",
       "c1   1.0 -0.0 -0.0  0.0 -0.0  0.0  0.0 -0.0 -0.0 -0.0\n",
       "c2  -0.0  1.0  0.0  0.0  0.0 -0.0 -0.0 -0.0 -0.0  0.0\n",
       "c3  -0.0  0.0  1.0  0.0  0.0 -0.0 -0.0  0.0  0.0  0.0\n",
       "c4   0.0  0.0  0.0  1.0  0.0  0.0  0.0  0.0  0.0  0.0\n",
       "c5  -0.0  0.0  0.0  0.0  1.0  0.0  0.0  0.0  0.0 -0.0\n",
       "c6   0.0 -0.0 -0.0  0.0  0.0  1.0  0.0  0.0  0.0 -0.0\n",
       "c7   0.0 -0.0 -0.0  0.0  0.0  0.0  1.0  0.0 -0.0 -0.0\n",
       "c8  -0.0 -0.0  0.0  0.0  0.0  0.0  0.0  1.0 -0.0 -0.0\n",
       "c9  -0.0 -0.0  0.0  0.0  0.0  0.0 -0.0 -0.0  1.0  0.0\n",
       "c10 -0.0  0.0  0.0  0.0 -0.0 -0.0 -0.0 -0.0  0.0  1.0"
      ]
     },
     "execution_count": 56,
     "metadata": {},
     "output_type": "execute_result"
    }
   ],
   "source": [
    "\n",
    "# on voit que les 10 vecteurs sont orthogonaux\n",
    "np.round(pca.corr(), 10)\n"
   ]
  },
  {
   "cell_type": "markdown",
   "metadata": {},
   "source": [
    "<h2 style=\"text-align:center;color:#fca103\">Interprétation des composantes</h2><br/>"
   ]
  },
  {
   "cell_type": "markdown",
   "metadata": {},
   "source": [
    "<h5 style=\"text-align:left;color:#fca103\">Composante une</h5><br/>\n"
   ]
  },
  {
   "cell_type": "code",
   "execution_count": 57,
   "metadata": {
    "scrolled": false
   },
   "outputs": [
    {
     "data": {
      "text/plain": [
       "Riboflavin_mg       0.262413\n",
       "Riboflavin_USRDA    0.262413\n",
       "Niacin_mg           0.258820\n",
       "Niacin_USRDA        0.258820\n",
       "VitB6_USRDA         0.240479\n",
       "VitB6_mg            0.240479\n",
       "Folate_USRDA        0.212663\n",
       "Folate_mcg          0.212663\n",
       "Iron_mg             0.207546\n",
       "Thiamin_mg          0.204840\n",
       "Thiamin_USRDA       0.204840\n",
       "Zinc_USRDA          0.187761\n",
       "Zinc_mg             0.187761\n",
       "Magnesium_USRDA     0.166961\n",
       "Magnesium_mg        0.166961\n",
       "Phosphorus_mg       0.147768\n",
       "Phosphorus_USRDA    0.147768\n",
       "VitB12_mcg          0.147756\n",
       "VitB12_USRDA        0.147756\n",
       "Copper_USRDA        0.140444\n",
       "Copper_mcg          0.140444\n",
       "Calcium_mg          0.118434\n",
       "Calcium_USRDA       0.118434\n",
       "Fiber_g             0.112393\n",
       "Protein_g           0.110906\n",
       "VitA_mcg            0.109097\n",
       "VitA_USRDA          0.109097\n",
       "VitE_mg             0.099086\n",
       "VitE_USRDA          0.099086\n",
       "Carb_g              0.098943\n",
       "Energy_kcal         0.093260\n",
       "Selenium_mcg        0.075559\n",
       "Selenium_USRDA      0.075559\n",
       "VitC_mg             0.070302\n",
       "VitC_USRDA          0.070302\n",
       "Manganese_mg        0.065269\n",
       "Sugar_g             0.038806\n",
       "Fat_g               0.013142\n",
       "dtype: float64"
      ]
     },
     "execution_count": 57,
     "metadata": {},
     "output_type": "execute_result"
    }
   ],
   "source": [
    "# copier les 10 composantes dans la variable vects\n",
    "vects = pca_var.components_[:10]\n",
    "\n",
    "# pd.Series : Tableau unidimensionnel avec des étiquettes d'axe\n",
    "one = pd.Series(vects[0], index=Nutrient_data.columns)\n",
    "one.sort_values(ascending=False)\n",
    "\n",
    "# ces valeurs representent la contribution des variables initiale à la construction des composantes principales"
   ]
  },
  {
   "cell_type": "markdown",
   "metadata": {},
   "source": [
    "<h5 style=\"text-align:left;color:#fca103\">Composante deux</h5><br/>"
   ]
  },
  {
   "cell_type": "code",
   "execution_count": 43,
   "metadata": {
    "scrolled": true
   },
   "outputs": [
    {
     "data": {
      "text/plain": [
       "VitB12_mcg          0.359418\n",
       "VitB12_USRDA        0.359418\n",
       "VitA_USRDA          0.338184\n",
       "VitA_mcg            0.338184\n",
       "Copper_mcg          0.306495\n",
       "Copper_USRDA        0.306495\n",
       "Selenium_mcg        0.134056\n",
       "Selenium_USRDA      0.134056\n",
       "Manganese_mg        0.125264\n",
       "Protein_g           0.121809\n",
       "Zinc_mg             0.048167\n",
       "Zinc_USRDA          0.048167\n",
       "Riboflavin_USRDA    0.013582\n",
       "Riboflavin_mg       0.013582\n",
       "Phosphorus_mg       0.001314\n",
       "Phosphorus_USRDA    0.001314\n",
       "Fat_g              -0.017774\n",
       "VitC_mg            -0.051779\n",
       "VitC_USRDA         -0.051779\n",
       "Niacin_mg          -0.058528\n",
       "Niacin_USRDA       -0.058528\n",
       "VitE_USRDA         -0.077774\n",
       "VitE_mg            -0.077774\n",
       "VitB6_mg           -0.083041\n",
       "VitB6_USRDA        -0.083041\n",
       "Magnesium_mg       -0.089100\n",
       "Magnesium_USRDA    -0.089100\n",
       "Iron_mg            -0.100659\n",
       "Calcium_mg         -0.105688\n",
       "Calcium_USRDA      -0.105688\n",
       "Energy_kcal        -0.107177\n",
       "Folate_mcg         -0.131009\n",
       "Folate_USRDA       -0.131009\n",
       "Sugar_g            -0.136636\n",
       "Thiamin_mg         -0.139937\n",
       "Thiamin_USRDA      -0.139937\n",
       "Fiber_g            -0.141667\n",
       "Carb_g             -0.207494\n",
       "dtype: float64"
      ]
     },
     "execution_count": 43,
     "metadata": {},
     "output_type": "execute_result"
    }
   ],
   "source": [
    "two = pd.Series(vects[1], index=Nutrient_data.columns)\n",
    "two.sort_values(ascending=False)"
   ]
  },
  {
   "cell_type": "markdown",
   "metadata": {},
   "source": [
    "<h5 style=\"text-align:left;color:#fca103\">Composante trois</h5><br/>"
   ]
  },
  {
   "cell_type": "code",
   "execution_count": 44,
   "metadata": {
    "scrolled": false
   },
   "outputs": [
    {
     "data": {
      "text/plain": [
       "Phosphorus_mg       0.364689\n",
       "Phosphorus_USRDA    0.364689\n",
       "Calcium_USRDA       0.299012\n",
       "Calcium_mg          0.299012\n",
       "Magnesium_mg        0.283292\n",
       "Magnesium_USRDA     0.283292\n",
       "Protein_g           0.149077\n",
       "Energy_kcal         0.145460\n",
       "Fiber_g             0.138130\n",
       "Fat_g               0.136412\n",
       "Selenium_mcg        0.120335\n",
       "Selenium_USRDA      0.120335\n",
       "Copper_mcg          0.102700\n",
       "Copper_USRDA        0.102700\n",
       "VitE_USRDA          0.048507\n",
       "VitE_mg             0.048507\n",
       "Manganese_mg        0.035244\n",
       "Zinc_USRDA          0.034207\n",
       "Zinc_mg             0.034207\n",
       "Iron_mg             0.014576\n",
       "Carb_g              0.009077\n",
       "Sugar_g            -0.037851\n",
       "VitA_USRDA         -0.063989\n",
       "VitA_mcg           -0.063989\n",
       "VitB12_USRDA       -0.066175\n",
       "VitB12_mcg         -0.066175\n",
       "VitC_mg            -0.086168\n",
       "VitC_USRDA         -0.086168\n",
       "VitB6_USRDA        -0.123040\n",
       "VitB6_mg           -0.123040\n",
       "Thiamin_USRDA      -0.144481\n",
       "Thiamin_mg         -0.144481\n",
       "Niacin_mg          -0.146043\n",
       "Niacin_USRDA       -0.146043\n",
       "Riboflavin_USRDA   -0.161898\n",
       "Riboflavin_mg      -0.161898\n",
       "Folate_mcg         -0.165277\n",
       "Folate_USRDA       -0.165277\n",
       "dtype: float64"
      ]
     },
     "execution_count": 44,
     "metadata": {},
     "output_type": "execute_result"
    }
   ],
   "source": [
    "three = pd.Series(vects[2], index=Nutrient_data.columns)\n",
    "three.sort_values(ascending=False)"
   ]
  },
  {
   "cell_type": "code",
   "execution_count": null,
   "metadata": {},
   "outputs": [],
   "source": []
  },
  {
   "cell_type": "code",
   "execution_count": null,
   "metadata": {},
   "outputs": [],
   "source": []
  }
 ],
 "metadata": {
  "kernelspec": {
   "display_name": "Python 3",
   "language": "python",
   "name": "python3"
  },
  "language_info": {
   "codemirror_mode": {
    "name": "ipython",
    "version": 3
   },
   "file_extension": ".py",
   "mimetype": "text/x-python",
   "name": "python",
   "nbconvert_exporter": "python",
   "pygments_lexer": "ipython3",
   "version": "3.8.5"
  }
 },
 "nbformat": 4,
 "nbformat_minor": 5
}
